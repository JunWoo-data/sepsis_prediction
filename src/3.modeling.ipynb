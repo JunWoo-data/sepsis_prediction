{
 "cells": [
  {
   "cell_type": "code",
   "execution_count": 471,
   "metadata": {},
   "outputs": [],
   "source": [
    "import pandas as pd \n",
    "import numpy as np \n",
    "\n",
    "import matplotlib.pyplot as plt \n",
    "import matplotlib.patches as mpatches\n",
    "import seaborn as sns \n",
    "import missingno as msno \n",
    "from utils import my_histogram, make_stacked_table, my_stacked_barplot\n",
    "\n",
    "from sklearn.model_selection import train_test_split\n",
    "from sklearn.pipeline import Pipeline\n",
    "from sklearn.preprocessing import StandardScaler, OneHotEncoder\n",
    "from sklearn.model_selection import cross_validate\n",
    "from sklearn.model_selection import train_test_split\n",
    "\n",
    "from sklearn.neighbors import KNeighborsClassifier\n",
    "from sklearn.discriminant_analysis import LinearDiscriminantAnalysis, QuadraticDiscriminantAnalysis \n",
    "from sklearn.naive_bayes import GaussianNB\n",
    "from sklearn.linear_model import LogisticRegression\n",
    "from sklearn.tree import DecisionTreeClassifier\n",
    "from sklearn.ensemble import RandomForestClassifier, AdaBoostClassifier\n",
    "from sklearn import tree\n",
    "from sklearn.svm import SVC\n",
    "from sklearn.ensemble import GradientBoostingClassifier\n",
    "import xgboost as xgb\n",
    "import lightgbm as lgb\n",
    "\n",
    "import optuna\n",
    "from optuna.integration import LightGBMPruningCallback\n",
    "from optuna.integration import XGBoostPruningCallback\n",
    "from sklearn.model_selection import GridSearchCV\n",
    "from sklearn.model_selection import KFold\n",
    "from sklearn.model_selection import StratifiedKFold\n",
    "\n",
    "from sklearn.metrics import confusion_matrix\n",
    "from sklearn.metrics import ConfusionMatrixDisplay\n",
    "from sklearn.metrics import balanced_accuracy_score\n",
    "from sklearn.metrics import roc_auc_score\n",
    "from sklearn.metrics import log_loss\n",
    "from sklearn.metrics import classification_report\n",
    "\n",
    "\n",
    "import imblearn\n",
    "from imblearn.over_sampling import SMOTE\n"
   ]
  },
  {
   "cell_type": "code",
   "execution_count": 3,
   "metadata": {},
   "outputs": [],
   "source": [
    "import warnings\n",
    "warnings.filterwarnings('ignore')"
   ]
  },
  {
   "cell_type": "code",
   "execution_count": 2,
   "metadata": {},
   "outputs": [],
   "source": [
    "pd.set_option('display.max_columns', None)"
   ]
  },
  {
   "attachments": {},
   "cell_type": "markdown",
   "metadata": {},
   "source": [
    "# 1. Prepare the data"
   ]
  },
  {
   "attachments": {},
   "cell_type": "markdown",
   "metadata": {},
   "source": [
    "- Load all tables with extracted features."
   ]
  },
  {
   "cell_type": "code",
   "execution_count": 12,
   "metadata": {},
   "outputs": [],
   "source": [
    "train_outcome = pd.read_csv(\"../data/train_outcome.csv\")\n",
    "test_outcome = pd.read_csv(\"../data/test_outcome.csv\")\n",
    "\n",
    "df_train_demo = pd.read_csv(\"../data/df_train_demo.csv\")\n",
    "df_test_demo = pd.read_csv(\"../data/df_test_demo.csv\")\n",
    "\n",
    "df_train_measurment_time_info = pd.read_csv(\"../data/df_train_measurment_time_info.csv\")\n",
    "df_test_measurment_time_info = pd.read_csv(\"../data/df_test_measurment_time_info.csv\")\n",
    "\n",
    "df_train_measurement_grouped_stat = pd.read_csv(\"../data/df_train_measurement_grouped_stat.csv\")\n",
    "df_test_measurement_grouped_stat = pd.read_csv(\"../data/df_test_measurment_grouped_stat.csv\")"
   ]
  },
  {
   "attachments": {},
   "cell_type": "markdown",
   "metadata": {},
   "source": [
    "- Merge all tables."
   ]
  },
  {
   "cell_type": "code",
   "execution_count": 13,
   "metadata": {},
   "outputs": [],
   "source": [
    "df_train_all = df_train_demo.merge(df_train_measurment_time_info, how = \"left\", on = \"ID\") \\\n",
    "                            .merge(df_train_measurement_grouped_stat, how = \"left\", on = \"ID\") \\\n",
    "                            .merge(train_outcome, how = \"left\", on = \"ID\")    "
   ]
  },
  {
   "cell_type": "code",
   "execution_count": 14,
   "metadata": {},
   "outputs": [],
   "source": [
    "df_test_all = df_test_demo.merge(df_test_measurment_time_info, how = \"left\", on = \"ID\") \\\n",
    "                          .merge(df_test_measurement_grouped_stat, how = \"left\", on = \"ID\") \\\n",
    "                          .merge(test_outcome, how = \"left\", on = \"ID\")    "
   ]
  },
  {
   "cell_type": "code",
   "execution_count": 28,
   "metadata": {},
   "outputs": [],
   "source": [
    "X_train = df_train_all.drop([\"Outcome\", \"ID\"], axis = 1)\n",
    "y_train = df_train_all.Outcome\n",
    "\n",
    "X_test = df_test_all.drop([\"Outcome\", \"ID\"], axis = 1)\n",
    "y_test = df_test_all.Outcome"
   ]
  },
  {
   "attachments": {},
   "cell_type": "markdown",
   "metadata": {},
   "source": [
    "- Standardize the train and test data."
   ]
  },
  {
   "cell_type": "code",
   "execution_count": 30,
   "metadata": {},
   "outputs": [],
   "source": [
    "col_names = X_train.columns"
   ]
  },
  {
   "cell_type": "code",
   "execution_count": 29,
   "metadata": {},
   "outputs": [
    {
     "data": {
      "text/html": [
       "<style>#sk-container-id-2 {color: black;background-color: white;}#sk-container-id-2 pre{padding: 0;}#sk-container-id-2 div.sk-toggleable {background-color: white;}#sk-container-id-2 label.sk-toggleable__label {cursor: pointer;display: block;width: 100%;margin-bottom: 0;padding: 0.3em;box-sizing: border-box;text-align: center;}#sk-container-id-2 label.sk-toggleable__label-arrow:before {content: \"▸\";float: left;margin-right: 0.25em;color: #696969;}#sk-container-id-2 label.sk-toggleable__label-arrow:hover:before {color: black;}#sk-container-id-2 div.sk-estimator:hover label.sk-toggleable__label-arrow:before {color: black;}#sk-container-id-2 div.sk-toggleable__content {max-height: 0;max-width: 0;overflow: hidden;text-align: left;background-color: #f0f8ff;}#sk-container-id-2 div.sk-toggleable__content pre {margin: 0.2em;color: black;border-radius: 0.25em;background-color: #f0f8ff;}#sk-container-id-2 input.sk-toggleable__control:checked~div.sk-toggleable__content {max-height: 200px;max-width: 100%;overflow: auto;}#sk-container-id-2 input.sk-toggleable__control:checked~label.sk-toggleable__label-arrow:before {content: \"▾\";}#sk-container-id-2 div.sk-estimator input.sk-toggleable__control:checked~label.sk-toggleable__label {background-color: #d4ebff;}#sk-container-id-2 div.sk-label input.sk-toggleable__control:checked~label.sk-toggleable__label {background-color: #d4ebff;}#sk-container-id-2 input.sk-hidden--visually {border: 0;clip: rect(1px 1px 1px 1px);clip: rect(1px, 1px, 1px, 1px);height: 1px;margin: -1px;overflow: hidden;padding: 0;position: absolute;width: 1px;}#sk-container-id-2 div.sk-estimator {font-family: monospace;background-color: #f0f8ff;border: 1px dotted black;border-radius: 0.25em;box-sizing: border-box;margin-bottom: 0.5em;}#sk-container-id-2 div.sk-estimator:hover {background-color: #d4ebff;}#sk-container-id-2 div.sk-parallel-item::after {content: \"\";width: 100%;border-bottom: 1px solid gray;flex-grow: 1;}#sk-container-id-2 div.sk-label:hover label.sk-toggleable__label {background-color: #d4ebff;}#sk-container-id-2 div.sk-serial::before {content: \"\";position: absolute;border-left: 1px solid gray;box-sizing: border-box;top: 0;bottom: 0;left: 50%;z-index: 0;}#sk-container-id-2 div.sk-serial {display: flex;flex-direction: column;align-items: center;background-color: white;padding-right: 0.2em;padding-left: 0.2em;position: relative;}#sk-container-id-2 div.sk-item {position: relative;z-index: 1;}#sk-container-id-2 div.sk-parallel {display: flex;align-items: stretch;justify-content: center;background-color: white;position: relative;}#sk-container-id-2 div.sk-item::before, #sk-container-id-2 div.sk-parallel-item::before {content: \"\";position: absolute;border-left: 1px solid gray;box-sizing: border-box;top: 0;bottom: 0;left: 50%;z-index: -1;}#sk-container-id-2 div.sk-parallel-item {display: flex;flex-direction: column;z-index: 1;position: relative;background-color: white;}#sk-container-id-2 div.sk-parallel-item:first-child::after {align-self: flex-end;width: 50%;}#sk-container-id-2 div.sk-parallel-item:last-child::after {align-self: flex-start;width: 50%;}#sk-container-id-2 div.sk-parallel-item:only-child::after {width: 0;}#sk-container-id-2 div.sk-dashed-wrapped {border: 1px dashed gray;margin: 0 0.4em 0.5em 0.4em;box-sizing: border-box;padding-bottom: 0.4em;background-color: white;}#sk-container-id-2 div.sk-label label {font-family: monospace;font-weight: bold;display: inline-block;line-height: 1.2em;}#sk-container-id-2 div.sk-label-container {text-align: center;}#sk-container-id-2 div.sk-container {/* jupyter's `normalize.less` sets `[hidden] { display: none; }` but bootstrap.min.css set `[hidden] { display: none !important; }` so we also need the `!important` here to be able to override the default hidden behavior on the sphinx rendered scikit-learn.org. See: https://github.com/scikit-learn/scikit-learn/issues/21755 */display: inline-block !important;position: relative;}#sk-container-id-2 div.sk-text-repr-fallback {display: none;}</style><div id=\"sk-container-id-2\" class=\"sk-top-container\"><div class=\"sk-text-repr-fallback\"><pre>StandardScaler()</pre><b>In a Jupyter environment, please rerun this cell to show the HTML representation or trust the notebook. <br />On GitHub, the HTML representation is unable to render, please try loading this page with nbviewer.org.</b></div><div class=\"sk-container\" hidden><div class=\"sk-item\"><div class=\"sk-estimator sk-toggleable\"><input class=\"sk-toggleable__control sk-hidden--visually\" id=\"sk-estimator-id-2\" type=\"checkbox\" checked><label for=\"sk-estimator-id-2\" class=\"sk-toggleable__label sk-toggleable__label-arrow\">StandardScaler</label><div class=\"sk-toggleable__content\"><pre>StandardScaler()</pre></div></div></div></div></div>"
      ],
      "text/plain": [
       "StandardScaler()"
      ]
     },
     "execution_count": 29,
     "metadata": {},
     "output_type": "execute_result"
    }
   ],
   "source": [
    "scaler = StandardScaler()\n",
    "scaler.fit(X_train)"
   ]
  },
  {
   "cell_type": "code",
   "execution_count": 31,
   "metadata": {},
   "outputs": [],
   "source": [
    "X_train_std = pd.DataFrame(scaler.transform(X_train), columns = col_names)\n",
    "X_test_std = pd.DataFrame(scaler.transform(X_test), columns = col_names)"
   ]
  },
  {
   "attachments": {},
   "cell_type": "markdown",
   "metadata": {},
   "source": [
    "# 2. Baseline error"
   ]
  },
  {
   "cell_type": "code",
   "execution_count": 44,
   "metadata": {},
   "outputs": [
    {
     "data": {
      "text/plain": [
       "0    5623\n",
       "1     867\n",
       "Name: Outcome, dtype: int64"
      ]
     },
     "execution_count": 44,
     "metadata": {},
     "output_type": "execute_result"
    }
   ],
   "source": [
    "y_test.value_counts()"
   ]
  },
  {
   "cell_type": "code",
   "execution_count": 45,
   "metadata": {},
   "outputs": [
    {
     "data": {
      "text/plain": [
       "<AxesSubplot:xlabel='Outcome', ylabel='count'>"
      ]
     },
     "execution_count": 45,
     "metadata": {},
     "output_type": "execute_result"
    },
    {
     "data": {
      "image/png": "[encoded data removed]",
      "text/plain": [
       "<Figure size 640x480 with 1 Axes>"
      ]
     },
     "metadata": {},
     "output_type": "display_data"
    }
   ],
   "source": [
    "sns.countplot(x = y_test)"
   ]
  },
  {
   "attachments": {},
   "cell_type": "markdown",
   "metadata": {},
   "source": [
    "- Note that only 13% of patients have an Outcome = 1.\n",
    "- That is, if we just predict all patient as Outcome = 0, we can achieve the 13% error, that is our baseline error."
   ]
  },
  {
   "attachments": {},
   "cell_type": "markdown",
   "metadata": {},
   "source": [
    "- Let's choose models to tune the hyperparameters by comparing each model's error with the baseline error."
   ]
  },
  {
   "cell_type": "code",
   "execution_count": 65,
   "metadata": {},
   "outputs": [],
   "source": [
    "names = [\"KNN\", \n",
    "         \"LDA\", \n",
    "         \"QDA\", \n",
    "         \"Naive Bayes\",\n",
    "         \"Logistic regression\",\n",
    "         \"Decesion tree\", \n",
    "         \"Random Forest\",  \n",
    "         \"AdaBoost\",\n",
    "         \"XGBoost\",\n",
    "         \"Polynomial kernel SVM\",\n",
    "         \"Radial kernel SVM\",\n",
    "         \"GBM\",\n",
    "         \"LightGBM\"\n",
    "        ]\n",
    "\n",
    "classifiers = [\n",
    "    KNeighborsClassifier(3),\n",
    "    LinearDiscriminantAnalysis(),\n",
    "    QuadraticDiscriminantAnalysis(),\n",
    "    GaussianNB(), \n",
    "    LogisticRegression(),\n",
    "    DecisionTreeClassifier(random_state = 42),\n",
    "    RandomForestClassifier(),\n",
    "    AdaBoostClassifier(),\n",
    "    xgb.XGBClassifier(),\n",
    "    SVC(kernel = \"poly\", probability = True),\n",
    "    SVC(kernel = \"rbf\", probability = True),\n",
    "    GradientBoostingClassifier(),\n",
    "    lgb.LGBMClassifier()\n",
    "    ]"
   ]
  },
  {
   "cell_type": "code",
   "execution_count": 71,
   "metadata": {},
   "outputs": [],
   "source": [
    "result_accuracy = pd.DataFrame(names, columns = [\"model_name\"])"
   ]
  },
  {
   "cell_type": "code",
   "execution_count": 73,
   "metadata": {},
   "outputs": [],
   "source": [
    "y_pred_dict = {}\n",
    "\n",
    "for name, clf in zip(names, classifiers):\n",
    "    clf.fit(X_train_std, y_train)\n",
    "    \n",
    "    y_pred = clf.predict(X_test_std)\n",
    "    y_pred_proba = clf.predict_proba(X_test_std)\n",
    "    y_pred_dict[name] = y_pred\n",
    "    \n",
    "    error = np.mean(y_pred != y_test)\n",
    "    balanced_accuracy = balanced_accuracy_score(y_test, y_pred)\n",
    "    auc = roc_auc_score(y_test, y_pred_proba[:, 1])\n",
    "    \n",
    "    result_accuracy.loc[result_accuracy.model_name == name, \"Error\"] = error\n",
    "    result_accuracy.loc[result_accuracy.model_name == name, \"BER\"] = 1 - balanced_accuracy\n",
    "    result_accuracy.loc[result_accuracy.model_name == name, \"AUC\"] = auc\n",
    "    "
   ]
  },
  {
   "cell_type": "code",
   "execution_count": 74,
   "metadata": {},
   "outputs": [
    {
     "data": {
      "text/html": [
       "<div>\n",
       "<style scoped>\n",
       "    .dataframe tbody tr th:only-of-type {\n",
       "        vertical-align: middle;\n",
       "    }\n",
       "\n",
       "    .dataframe tbody tr th {\n",
       "        vertical-align: top;\n",
       "    }\n",
       "\n",
       "    .dataframe thead th {\n",
       "        text-align: right;\n",
       "    }\n",
       "</style>\n",
       "<table border=\"1\" class=\"dataframe\">\n",
       "  <thead>\n",
       "    <tr style=\"text-align: right;\">\n",
       "      <th></th>\n",
       "      <th>model_name</th>\n",
       "      <th>Error</th>\n",
       "      <th>BER</th>\n",
       "      <th>AUC</th>\n",
       "    </tr>\n",
       "  </thead>\n",
       "  <tbody>\n",
       "    <tr>\n",
       "      <th>0</th>\n",
       "      <td>KNN</td>\n",
       "      <td>0.092296</td>\n",
       "      <td>0.301056</td>\n",
       "      <td>0.764946</td>\n",
       "    </tr>\n",
       "    <tr>\n",
       "      <th>1</th>\n",
       "      <td>LDA</td>\n",
       "      <td>0.110169</td>\n",
       "      <td>0.362100</td>\n",
       "      <td>0.813528</td>\n",
       "    </tr>\n",
       "    <tr>\n",
       "      <th>2</th>\n",
       "      <td>QDA</td>\n",
       "      <td>0.155470</td>\n",
       "      <td>0.301905</td>\n",
       "      <td>0.799748</td>\n",
       "    </tr>\n",
       "    <tr>\n",
       "      <th>3</th>\n",
       "      <td>Naive Bayes</td>\n",
       "      <td>0.117565</td>\n",
       "      <td>0.295640</td>\n",
       "      <td>0.841536</td>\n",
       "    </tr>\n",
       "    <tr>\n",
       "      <th>4</th>\n",
       "      <td>Logistic regression</td>\n",
       "      <td>0.106317</td>\n",
       "      <td>0.354024</td>\n",
       "      <td>0.815425</td>\n",
       "    </tr>\n",
       "    <tr>\n",
       "      <th>5</th>\n",
       "      <td>Decesion tree</td>\n",
       "      <td>0.115408</td>\n",
       "      <td>0.236349</td>\n",
       "      <td>0.763651</td>\n",
       "    </tr>\n",
       "    <tr>\n",
       "      <th>6</th>\n",
       "      <td>Random Forest</td>\n",
       "      <td>0.066256</td>\n",
       "      <td>0.216764</td>\n",
       "      <td>0.911303</td>\n",
       "    </tr>\n",
       "    <tr>\n",
       "      <th>7</th>\n",
       "      <td>AdaBoost</td>\n",
       "      <td>0.072111</td>\n",
       "      <td>0.223069</td>\n",
       "      <td>0.888091</td>\n",
       "    </tr>\n",
       "    <tr>\n",
       "      <th>8</th>\n",
       "      <td>XGBoost</td>\n",
       "      <td>0.065485</td>\n",
       "      <td>0.203637</td>\n",
       "      <td>0.911156</td>\n",
       "    </tr>\n",
       "    <tr>\n",
       "      <th>9</th>\n",
       "      <td>Polynomial kernel SVM</td>\n",
       "      <td>0.089522</td>\n",
       "      <td>0.300431</td>\n",
       "      <td>0.825197</td>\n",
       "    </tr>\n",
       "    <tr>\n",
       "      <th>10</th>\n",
       "      <td>Radial kernel SVM</td>\n",
       "      <td>0.077042</td>\n",
       "      <td>0.258108</td>\n",
       "      <td>0.900935</td>\n",
       "    </tr>\n",
       "    <tr>\n",
       "      <th>11</th>\n",
       "      <td>GBM</td>\n",
       "      <td>0.065948</td>\n",
       "      <td>0.211708</td>\n",
       "      <td>0.908800</td>\n",
       "    </tr>\n",
       "    <tr>\n",
       "      <th>12</th>\n",
       "      <td>LightGBM</td>\n",
       "      <td>0.063328</td>\n",
       "      <td>0.200441</td>\n",
       "      <td>0.916949</td>\n",
       "    </tr>\n",
       "  </tbody>\n",
       "</table>\n",
       "</div>"
      ],
      "text/plain": [
       "               model_name     Error       BER       AUC\n",
       "0                     KNN  0.092296  0.301056  0.764946\n",
       "1                     LDA  0.110169  0.362100  0.813528\n",
       "2                     QDA  0.155470  0.301905  0.799748\n",
       "3             Naive Bayes  0.117565  0.295640  0.841536\n",
       "4     Logistic regression  0.106317  0.354024  0.815425\n",
       "5           Decesion tree  0.115408  0.236349  0.763651\n",
       "6           Random Forest  0.066256  0.216764  0.911303\n",
       "7                AdaBoost  0.072111  0.223069  0.888091\n",
       "8                 XGBoost  0.065485  0.203637  0.911156\n",
       "9   Polynomial kernel SVM  0.089522  0.300431  0.825197\n",
       "10      Radial kernel SVM  0.077042  0.258108  0.900935\n",
       "11                    GBM  0.065948  0.211708  0.908800\n",
       "12               LightGBM  0.063328  0.200441  0.916949"
      ]
     },
     "execution_count": 74,
     "metadata": {},
     "output_type": "execute_result"
    }
   ],
   "source": [
    "result_accuracy"
   ]
  },
  {
   "attachments": {},
   "cell_type": "markdown",
   "metadata": {},
   "source": [
    "- Almost all models have smaller error than the baseline error 13%.\n",
    "- Among the models, the error and the balanced error of LightGBM is the lowest at 6.3% and 20%.\n",
    "- Also, Randomforest and XGBoost have small BER and high AUC values.\n",
    "- So let's tune the hyperparameters of LightGBM, XGBoost, and RandomForest."
   ]
  },
  {
   "attachments": {},
   "cell_type": "markdown",
   "metadata": {},
   "source": [
    "- Before tune the hyperparameters, let's check the confusion matrix."
   ]
  },
  {
   "cell_type": "code",
   "execution_count": 474,
   "metadata": {},
   "outputs": [
    {
     "data": {
      "text/plain": [
       "Text(0.5, 1.0, 'Random Forest')"
      ]
     },
     "execution_count": 474,
     "metadata": {},
     "output_type": "execute_result"
    },
    {
     "data": {
      "image/png": "[encoded data removed]",
      "text/plain": [
       "<Figure size 2000x500 with 6 Axes>"
      ]
     },
     "metadata": {
      "image/png": {
       "height": 500,
       "width": 2000
      }
     },
     "output_type": "display_data"
    }
   ],
   "source": [
    "lgbm_cm = confusion_matrix(y_test, y_pred_dict[\"LightGBM\"])\n",
    "lgbm_cm_display = ConfusionMatrixDisplay(confusion_matrix = lgbm_cm, display_labels = clf.classes_)\n",
    "\n",
    "xgboost_cm = confusion_matrix(y_test, y_pred_dict[\"XGBoost\"])\n",
    "xgboost_cm_display = ConfusionMatrixDisplay(confusion_matrix = xgboost_cm, display_labels = clf.classes_)\n",
    "\n",
    "rf_cm = confusion_matrix(y_test, y_pred_dict[\"Random Forest\"])\n",
    "rf_cm_display = ConfusionMatrixDisplay(confusion_matrix = rf_cm, display_labels = clf.classes_)\n",
    "\n",
    "fig, axes = plt.subplots(1, 3, figsize = (20, 5))\n",
    "\n",
    "lgbm_cm_display.plot(ax = axes[0])\n",
    "axes[0].set_title(\"LightGBM\", fontsize = 15)\n",
    "\n",
    "xgboost_cm_display.plot(ax = axes[1])\n",
    "axes[1].set_title(\"XGBoost\", fontsize = 15)\n",
    "\n",
    "rf_cm_display.plot(ax = axes[2])\n",
    "axes[2].set_title(\"Random Forest\", fontsize = 15)\n",
    "\n"
   ]
  },
  {
   "attachments": {},
   "cell_type": "markdown",
   "metadata": {},
   "source": [
    "- Models perform poorly at predicting Outcome = 1."
   ]
  },
  {
   "attachments": {},
   "cell_type": "markdown",
   "metadata": {},
   "source": [
    "# 3. Hyperparameters tunning"
   ]
  },
  {
   "attachments": {},
   "cell_type": "markdown",
   "metadata": {},
   "source": [
    "- Now, let's tune the hyperparameter.\n",
    "- There are two evaluation metrics. One is BER, and the other is AUC.\n",
    "- First, tune the hyperparemeter of LightGBM, XGBoost, and RandomForest to maximize the AUC. \n",
    "- Among trained LightGBM, XGBoost, and RandomForest models with different hyperparameters, select top 15 models.\n",
    "- From the best 15 models, get average of the scores.\n",
    "- By using the mean score from 15 best models, calcualte the AUC.\n",
    "- Then, let's find the best cutoff value for the mean score to achieve the minimum BER.   \n"
   ]
  },
  {
   "attachments": {},
   "cell_type": "markdown",
   "metadata": {},
   "source": [
    "## 3.1. LightGBM"
   ]
  },
  {
   "attachments": {},
   "cell_type": "markdown",
   "metadata": {},
   "source": [
    "- Candidate hyperparameters are as follow:\n",
    "    - learning_rate: 0.01 ~ 0.3 \n",
    "    - num_leaves: 20 ~ 3000 with step = 20\n",
    "    - max_depth: 3 ~ 12 \n",
    "    - min_data_in_leaf: 200 ~ 10000 with step = 100\n",
    "    - max_bing: 200 ~ 300\n",
    "    - lambda_l1: 0 ~ 100 with step = 5\n",
    "    - lambda_l2: 0 ~ 100 with step = 5\n",
    "    - min_gain_to_split: 0 ~ 15\n",
    "    - bagging_fraction: 0.2 ~ 0.95 with step = 0.1\n",
    "    - feature_fraction: 0.2 ~ 0.95 with step = 0.1"
   ]
  },
  {
   "attachments": {},
   "cell_type": "markdown",
   "metadata": {},
   "source": [
    "- There are two evaluation metrics. One is BER, and the other is AUC.\n",
    "- First, tune the hyperparemeter to maximize the AUC. \n",
    "- Then, let's find the best cutoff value for score to achieve the minimum BER.  "
   ]
  },
  {
   "cell_type": "code",
   "execution_count": 322,
   "metadata": {},
   "outputs": [],
   "source": [
    "def lgbm_objective(trial, X, y):\n",
    "    param_grid = {\n",
    "        \"n_estimators\": trial.suggest_categorical(\"n_estimators\", [10000]),\n",
    "        \"learning_rate\": trial.suggest_float(\"learning_rate\", 0.01, 0.3),\n",
    "        \"num_leaves\": trial.suggest_int(\"num_leaves\", 20, 3000, step = 20),\n",
    "        \"max_depth\": trial.suggest_int(\"max_depth\", 3, 12),\n",
    "        \"min_data_in_leaf\": trial.suggest_int(\"min_data_in_leaf\", 200, 10000, step = 100),\n",
    "        \"max_bin\": trial.suggest_int(\"max_bin\", 200, 300),\n",
    "        \"lambda_l1\": trial.suggest_int(\"lambda_l1\", 0, 100, step = 5),\n",
    "        \"lambda_l2\": trial.suggest_int(\"lambda_l2\", 0, 100, step = 5),\n",
    "        \"min_gain_to_split\": trial.suggest_float(\"min_gain_to_split\", 0, 15),\n",
    "        \"bagging_fraction\": trial.suggest_float(\n",
    "            \"bagging_fraction\", 0.2, 0.95, step = 0.1\n",
    "        ),\n",
    "        \"bagging_freq\": trial.suggest_categorical(\"bagging_freq\", [1]),\n",
    "        \"feature_fraction\": trial.suggest_float(\n",
    "            \"feature_fraction\", 0.2, 0.95, step = 0.1\n",
    "        ),\n",
    "        \"silent\": 1,\n",
    "        \"verbose\": -1\n",
    "    }\n",
    "    \n",
    "    cv = StratifiedKFold(n_splits = 5, shuffle = True, random_state = 42)\n",
    "    cv_scores = np.empty(5)\n",
    "    \n",
    "    for idx, (train_idx, test_idx) in enumerate(cv.split(X, y)):\n",
    "        X_train, X_test = X.iloc[train_idx], X.iloc[test_idx]\n",
    "        y_train, y_test = y[train_idx], y[test_idx]\n",
    "\n",
    "        model = lgb.LGBMClassifier(objective = \"binary\", **param_grid, n_jobs = -1)\n",
    "        model.fit(\n",
    "            X_train,\n",
    "            y_train,\n",
    "            eval_set=[(X_test, y_test)],\n",
    "            eval_metric = [\"auc\"],\n",
    "            early_stopping_rounds = 100,\n",
    "            callbacks=[\n",
    "                LightGBMPruningCallback(trial, \"auc\")\n",
    "            ],  # Add a pruning callback\n",
    "            verbose = -1\n",
    "        )\n",
    "        preds_proba = model.predict_proba(X_test)\n",
    "        auc = roc_auc_score(y_test, preds_proba[:, 1])\n",
    "        cv_scores[idx] = auc\n",
    "\n",
    "    return np.mean(cv_scores)"
   ]
  },
  {
   "cell_type": "code",
   "execution_count": null,
   "metadata": {},
   "outputs": [],
   "source": [
    "lgbm_study = optuna.create_study(direction = \"maximize\", study_name = \"LGBM Classifier\")\n",
    "func = lambda trial: lgbm_objective(trial, X_train_std, y_train)\n",
    "lgbm_study.optimize(func, n_trials = 100)"
   ]
  },
  {
   "cell_type": "code",
   "execution_count": 324,
   "metadata": {},
   "outputs": [],
   "source": [
    "lgbm_trials_history = lgbm_study.get_trials()\n",
    "\n",
    "trial_list = []\n",
    "hyperparameters_list = []\n",
    "auc_list = []\n",
    "\n",
    "for i in range(len(lgbm_trials_history)):\n",
    "    trial_list.append(lgbm_trials_history[i].number) \n",
    "    hyperparameters_list.append(lgbm_trials_history[i].params)\n",
    "    auc_list.append(lgbm_trials_history[i].values[0])\n",
    "    \n",
    "lgbm_auc_history = pd.DataFrame({\"trial\": trial_list, \"auc\": auc_list, \"params\": hyperparameters_list})"
   ]
  },
  {
   "cell_type": "code",
   "execution_count": 325,
   "metadata": {},
   "outputs": [
    {
     "data": {
      "text/html": [
       "<div>\n",
       "<style scoped>\n",
       "    .dataframe tbody tr th:only-of-type {\n",
       "        vertical-align: middle;\n",
       "    }\n",
       "\n",
       "    .dataframe tbody tr th {\n",
       "        vertical-align: top;\n",
       "    }\n",
       "\n",
       "    .dataframe thead th {\n",
       "        text-align: right;\n",
       "    }\n",
       "</style>\n",
       "<table border=\"1\" class=\"dataframe\">\n",
       "  <thead>\n",
       "    <tr style=\"text-align: right;\">\n",
       "      <th></th>\n",
       "      <th>trial</th>\n",
       "      <th>auc</th>\n",
       "      <th>params</th>\n",
       "    </tr>\n",
       "  </thead>\n",
       "  <tbody>\n",
       "    <tr>\n",
       "      <th>85</th>\n",
       "      <td>85</td>\n",
       "      <td>0.943124</td>\n",
       "      <td>{'n_estimators': 10000, 'learning_rate': 0.145...</td>\n",
       "    </tr>\n",
       "    <tr>\n",
       "      <th>55</th>\n",
       "      <td>55</td>\n",
       "      <td>0.940711</td>\n",
       "      <td>{'n_estimators': 10000, 'learning_rate': 0.120...</td>\n",
       "    </tr>\n",
       "    <tr>\n",
       "      <th>67</th>\n",
       "      <td>67</td>\n",
       "      <td>0.940047</td>\n",
       "      <td>{'n_estimators': 10000, 'learning_rate': 0.132...</td>\n",
       "    </tr>\n",
       "    <tr>\n",
       "      <th>80</th>\n",
       "      <td>80</td>\n",
       "      <td>0.939630</td>\n",
       "      <td>{'n_estimators': 10000, 'learning_rate': 0.172...</td>\n",
       "    </tr>\n",
       "    <tr>\n",
       "      <th>39</th>\n",
       "      <td>39</td>\n",
       "      <td>0.939020</td>\n",
       "      <td>{'n_estimators': 10000, 'learning_rate': 0.136...</td>\n",
       "    </tr>\n",
       "    <tr>\n",
       "      <th>...</th>\n",
       "      <td>...</td>\n",
       "      <td>...</td>\n",
       "      <td>...</td>\n",
       "    </tr>\n",
       "    <tr>\n",
       "      <th>10</th>\n",
       "      <td>10</td>\n",
       "      <td>0.500000</td>\n",
       "      <td>{'n_estimators': 10000, 'learning_rate': 0.197...</td>\n",
       "    </tr>\n",
       "    <tr>\n",
       "      <th>8</th>\n",
       "      <td>8</td>\n",
       "      <td>0.500000</td>\n",
       "      <td>{'n_estimators': 10000, 'learning_rate': 0.259...</td>\n",
       "    </tr>\n",
       "    <tr>\n",
       "      <th>4</th>\n",
       "      <td>4</td>\n",
       "      <td>0.500000</td>\n",
       "      <td>{'n_estimators': 10000, 'learning_rate': 0.253...</td>\n",
       "    </tr>\n",
       "    <tr>\n",
       "      <th>2</th>\n",
       "      <td>2</td>\n",
       "      <td>0.500000</td>\n",
       "      <td>{'n_estimators': 10000, 'learning_rate': 0.054...</td>\n",
       "    </tr>\n",
       "    <tr>\n",
       "      <th>0</th>\n",
       "      <td>0</td>\n",
       "      <td>0.500000</td>\n",
       "      <td>{'n_estimators': 10000, 'learning_rate': 0.265...</td>\n",
       "    </tr>\n",
       "  </tbody>\n",
       "</table>\n",
       "<p>100 rows × 3 columns</p>\n",
       "</div>"
      ],
      "text/plain": [
       "    trial       auc                                             params\n",
       "85     85  0.943124  {'n_estimators': 10000, 'learning_rate': 0.145...\n",
       "55     55  0.940711  {'n_estimators': 10000, 'learning_rate': 0.120...\n",
       "67     67  0.940047  {'n_estimators': 10000, 'learning_rate': 0.132...\n",
       "80     80  0.939630  {'n_estimators': 10000, 'learning_rate': 0.172...\n",
       "39     39  0.939020  {'n_estimators': 10000, 'learning_rate': 0.136...\n",
       "..    ...       ...                                                ...\n",
       "10     10  0.500000  {'n_estimators': 10000, 'learning_rate': 0.197...\n",
       "8       8  0.500000  {'n_estimators': 10000, 'learning_rate': 0.259...\n",
       "4       4  0.500000  {'n_estimators': 10000, 'learning_rate': 0.253...\n",
       "2       2  0.500000  {'n_estimators': 10000, 'learning_rate': 0.054...\n",
       "0       0  0.500000  {'n_estimators': 10000, 'learning_rate': 0.265...\n",
       "\n",
       "[100 rows x 3 columns]"
      ]
     },
     "execution_count": 325,
     "metadata": {},
     "output_type": "execute_result"
    }
   ],
   "source": [
    "lgbm_auc_history.sort_values(\"auc\", ascending = False)"
   ]
  },
  {
   "attachments": {},
   "cell_type": "markdown",
   "metadata": {},
   "source": [
    "## 3.2. XGBoost"
   ]
  },
  {
   "attachments": {},
   "cell_type": "markdown",
   "metadata": {},
   "source": [
    "- Candidate hyperparameters are as follow:\n",
    "    - n_estimators: 100, 300, 500, 1000\n",
    "    - learning_rate: 1e-8 ~ 1 \n",
    "    - max_depth: 3 ~ 20 \n",
    "    - lambda: 1e-8 ~ 1 \n",
    "    - alpha: 1e-8 ~ 1 \n",
    "    - gamma: 1e-8 ~ 1 \n",
    "    - subsample: 0.01 ~ 0.3 with step = 0.02\n",
    "    - colsample_bytree: 0.4 ~ 1.0 with step = 0.1\n",
    "    - colsample_bylevel: 0.4 ~ 1.0 with step = 0.1"
   ]
  },
  {
   "cell_type": "code",
   "execution_count": 328,
   "metadata": {},
   "outputs": [],
   "source": [
    "def xgboost_objective(trial, X, y):\n",
    "    param_grid = {\n",
    "        \"n_estimators\": trial.suggest_categorical(\"n_estimators\", [100, 300, 500, 1000]),\n",
    "        \"eta\": trial.suggest_loguniform(\"alpha\", 1e-8, 1.0),\n",
    "        \"max_depth\": trial.suggest_int(\"max_depth\", 3, 20),\n",
    "        \"lambda\": trial.suggest_loguniform(\"lambda\", 1e-8, 1.0),\n",
    "        \"alpha\": trial.suggest_loguniform(\"alpha\", 1e-8, 1.0),\n",
    "        \"gamma\": trial.suggest_loguniform(\"alpha\", 1e-8, 1.0),\n",
    "        \"subsample\": trial.suggest_float(\"subsample\", 0.01, 0.3, step = 0.02),\n",
    "        \"colsample_bytree\": trial.suggest_float(\"colsample_bytree\", 0.4, 1.0, step = 0.1),\n",
    "        \"colsample_bylevel\": trial.suggest_float(\"colsample_bylevel\", 0.4, 1.0, step = 0.1),\n",
    "        \"verbosity\": 0\n",
    "    }\n",
    "\n",
    "    cv = StratifiedKFold(n_splits = 5, shuffle = True, random_state = 42)\n",
    "    cv_scores = np.empty(5)\n",
    "\n",
    "    for idx, (train_idx, test_idx) in enumerate(cv.split(X, y)):\n",
    "        X_train, X_test = X.iloc[train_idx], X.iloc[test_idx]\n",
    "        y_train, y_test = y[train_idx], y[test_idx]\n",
    "\n",
    "        model = xgb.XGBClassifier(objective = \"binary:logistic\", **param_grid, n_jobs = -1)\n",
    "        model.fit(\n",
    "            X_train,\n",
    "            y_train,\n",
    "            eval_set=[(X_test, y_test)],\n",
    "            eval_metric = [\"auc\"],\n",
    "            early_stopping_rounds = 100,\n",
    "            callbacks=[\n",
    "                XGBoostPruningCallback(trial, \"validation_0-auc\")\n",
    "            ],  # Add a pruning callback\n",
    "        )\n",
    "        \n",
    "        preds_proba = model.predict_proba(X_test)\n",
    "        auc = roc_auc_score(y_test, preds_proba[:, 1])\n",
    "        cv_scores[idx] = auc\n",
    "\n",
    "    return np.mean(cv_scores)"
   ]
  },
  {
   "cell_type": "code",
   "execution_count": null,
   "metadata": {},
   "outputs": [],
   "source": [
    "xgboost_study = optuna.create_study(direction = \"maximize\", study_name = \"XGBoost Classifier\")\n",
    "func = lambda trial: xgboost_objective(trial, X_train_std, y_train)\n",
    "xgboost_study.optimize(func, n_trials = 100)"
   ]
  },
  {
   "cell_type": "code",
   "execution_count": 330,
   "metadata": {},
   "outputs": [],
   "source": [
    "xgboost_trials_history = xgboost_study.get_trials()\n",
    "\n",
    "trial_list = []\n",
    "hyperparameters_list = []\n",
    "auc_list = []\n",
    "\n",
    "for i in range(len(xgboost_trials_history)):\n",
    "    trial_list.append(xgboost_trials_history[i].number) \n",
    "    hyperparameters_list.append(xgboost_trials_history[i].params)\n",
    "    auc_list.append(xgboost_trials_history[i].values[0])\n",
    "    \n",
    "xgboost_auc_history = pd.DataFrame({\"trial\": trial_list, \"auc\": auc_list, \"params\": hyperparameters_list})"
   ]
  },
  {
   "cell_type": "code",
   "execution_count": 331,
   "metadata": {},
   "outputs": [
    {
     "data": {
      "text/html": [
       "<div>\n",
       "<style scoped>\n",
       "    .dataframe tbody tr th:only-of-type {\n",
       "        vertical-align: middle;\n",
       "    }\n",
       "\n",
       "    .dataframe tbody tr th {\n",
       "        vertical-align: top;\n",
       "    }\n",
       "\n",
       "    .dataframe thead th {\n",
       "        text-align: right;\n",
       "    }\n",
       "</style>\n",
       "<table border=\"1\" class=\"dataframe\">\n",
       "  <thead>\n",
       "    <tr style=\"text-align: right;\">\n",
       "      <th></th>\n",
       "      <th>trial</th>\n",
       "      <th>auc</th>\n",
       "      <th>params</th>\n",
       "    </tr>\n",
       "  </thead>\n",
       "  <tbody>\n",
       "    <tr>\n",
       "      <th>25</th>\n",
       "      <td>25</td>\n",
       "      <td>0.925149</td>\n",
       "      <td>{'n_estimators': 500, 'alpha': 9.4863506092290...</td>\n",
       "    </tr>\n",
       "    <tr>\n",
       "      <th>41</th>\n",
       "      <td>41</td>\n",
       "      <td>0.924905</td>\n",
       "      <td>{'n_estimators': 500, 'alpha': 3.4232784401779...</td>\n",
       "    </tr>\n",
       "    <tr>\n",
       "      <th>34</th>\n",
       "      <td>34</td>\n",
       "      <td>0.919624</td>\n",
       "      <td>{'n_estimators': 500, 'alpha': 2.2767849840122...</td>\n",
       "    </tr>\n",
       "    <tr>\n",
       "      <th>29</th>\n",
       "      <td>29</td>\n",
       "      <td>0.917429</td>\n",
       "      <td>{'n_estimators': 300, 'alpha': 2.0219184532052...</td>\n",
       "    </tr>\n",
       "    <tr>\n",
       "      <th>88</th>\n",
       "      <td>88</td>\n",
       "      <td>0.916726</td>\n",
       "      <td>{'n_estimators': 300, 'alpha': 2.7510681730152...</td>\n",
       "    </tr>\n",
       "    <tr>\n",
       "      <th>...</th>\n",
       "      <td>...</td>\n",
       "      <td>...</td>\n",
       "      <td>...</td>\n",
       "    </tr>\n",
       "    <tr>\n",
       "      <th>80</th>\n",
       "      <td>80</td>\n",
       "      <td>0.500000</td>\n",
       "      <td>{'n_estimators': 500, 'alpha': 2.4663181451532...</td>\n",
       "    </tr>\n",
       "    <tr>\n",
       "      <th>21</th>\n",
       "      <td>21</td>\n",
       "      <td>0.500000</td>\n",
       "      <td>{'n_estimators': 500, 'alpha': 1.0123144391688...</td>\n",
       "    </tr>\n",
       "    <tr>\n",
       "      <th>9</th>\n",
       "      <td>9</td>\n",
       "      <td>0.500000</td>\n",
       "      <td>{'n_estimators': 100, 'alpha': 4.2479074365499...</td>\n",
       "    </tr>\n",
       "    <tr>\n",
       "      <th>57</th>\n",
       "      <td>57</td>\n",
       "      <td>0.500000</td>\n",
       "      <td>{'n_estimators': 100, 'alpha': 3.2214812056006...</td>\n",
       "    </tr>\n",
       "    <tr>\n",
       "      <th>22</th>\n",
       "      <td>22</td>\n",
       "      <td>0.500000</td>\n",
       "      <td>{'n_estimators': 500, 'alpha': 1.0470925931211...</td>\n",
       "    </tr>\n",
       "  </tbody>\n",
       "</table>\n",
       "<p>100 rows × 3 columns</p>\n",
       "</div>"
      ],
      "text/plain": [
       "    trial       auc                                             params\n",
       "25     25  0.925149  {'n_estimators': 500, 'alpha': 9.4863506092290...\n",
       "41     41  0.924905  {'n_estimators': 500, 'alpha': 3.4232784401779...\n",
       "34     34  0.919624  {'n_estimators': 500, 'alpha': 2.2767849840122...\n",
       "29     29  0.917429  {'n_estimators': 300, 'alpha': 2.0219184532052...\n",
       "88     88  0.916726  {'n_estimators': 300, 'alpha': 2.7510681730152...\n",
       "..    ...       ...                                                ...\n",
       "80     80  0.500000  {'n_estimators': 500, 'alpha': 2.4663181451532...\n",
       "21     21  0.500000  {'n_estimators': 500, 'alpha': 1.0123144391688...\n",
       "9       9  0.500000  {'n_estimators': 100, 'alpha': 4.2479074365499...\n",
       "57     57  0.500000  {'n_estimators': 100, 'alpha': 3.2214812056006...\n",
       "22     22  0.500000  {'n_estimators': 500, 'alpha': 1.0470925931211...\n",
       "\n",
       "[100 rows x 3 columns]"
      ]
     },
     "execution_count": 331,
     "metadata": {},
     "output_type": "execute_result"
    }
   ],
   "source": [
    "xgboost_auc_history.sort_values(\"auc\", ascending = False)"
   ]
  },
  {
   "attachments": {},
   "cell_type": "markdown",
   "metadata": {},
   "source": [
    "## 3.3. RandomForest"
   ]
  },
  {
   "attachments": {},
   "cell_type": "markdown",
   "metadata": {},
   "source": [
    "- Candidate hyperparameters are as follow:\n",
    "    - n_estimators: 100, 300, 500, 1000\n",
    "    - learning_rate: 1e-8 ~ 1 \n",
    "    - max_depth: 3 ~ 20 \n",
    "    - max_features: auto, sqrt, log2\n",
    "    - min_samples_leaf: 1 ~ 10\n",
    "    - min_samples_split: 2 ~ 10"
   ]
  },
  {
   "cell_type": "code",
   "execution_count": 350,
   "metadata": {},
   "outputs": [],
   "source": [
    "def rf_objective(trial, X, y):\n",
    "    param_grid = {\n",
    "        \"n_estimators\": trial.suggest_categorical(\"n_estimators\", [100, 300, 500, 1000]),\n",
    "        \"max_depth\": trial.suggest_int(\"max_depth\", 3, 20, step = 2),\n",
    "        \"max_features\": trial.suggest_categorical(\"max_features\", [\"sqrt\", \"log2\"]),\n",
    "        \"min_samples_leaf\": trial.suggest_int(\"min_samples_leaf\", 1, 10),\n",
    "        \"min_samples_split\": trial.suggest_int(\"min_samples_split\", 2, 10),\n",
    "    }\n",
    "    \n",
    "    cv = StratifiedKFold(n_splits = 5, shuffle = True, random_state = 42)\n",
    "    \n",
    "    model = RandomForestClassifier(**param_grid, n_jobs = -1)\n",
    "    cv_results = cross_validate(model, X, y, cv = cv, scoring = \"roc_auc\", n_jobs = -1)\n",
    "\n",
    "\n",
    "    return np.mean(cv_results['test_score'])"
   ]
  },
  {
   "cell_type": "code",
   "execution_count": null,
   "metadata": {},
   "outputs": [],
   "source": [
    "rf_study = optuna.create_study(direction = \"maximize\", study_name = \"RandomForest Classifier\")\n",
    "func = lambda trial: rf_objective(trial, X_train_std, y_train)\n",
    "rf_study.optimize(func, n_trials = 20)"
   ]
  },
  {
   "cell_type": "code",
   "execution_count": 353,
   "metadata": {},
   "outputs": [],
   "source": [
    "rf_trials_history = rf_study.get_trials()\n",
    "\n",
    "trial_list = []\n",
    "hyperparameters_list = []\n",
    "auc_list = []\n",
    "\n",
    "for i in range(len(rf_trials_history)):\n",
    "    trial_list.append(rf_trials_history[i].number) \n",
    "    hyperparameters_list.append(rf_trials_history[i].params)\n",
    "    auc_list.append(rf_trials_history[i].values[0])\n",
    "    \n",
    "rf_auc_history = pd.DataFrame({\"trial\": trial_list, \"auc\": auc_list, \"params\": hyperparameters_list})"
   ]
  },
  {
   "cell_type": "code",
   "execution_count": 354,
   "metadata": {},
   "outputs": [
    {
     "data": {
      "text/html": [
       "<div>\n",
       "<style scoped>\n",
       "    .dataframe tbody tr th:only-of-type {\n",
       "        vertical-align: middle;\n",
       "    }\n",
       "\n",
       "    .dataframe tbody tr th {\n",
       "        vertical-align: top;\n",
       "    }\n",
       "\n",
       "    .dataframe thead th {\n",
       "        text-align: right;\n",
       "    }\n",
       "</style>\n",
       "<table border=\"1\" class=\"dataframe\">\n",
       "  <thead>\n",
       "    <tr style=\"text-align: right;\">\n",
       "      <th></th>\n",
       "      <th>trial</th>\n",
       "      <th>auc</th>\n",
       "      <th>params</th>\n",
       "    </tr>\n",
       "  </thead>\n",
       "  <tbody>\n",
       "    <tr>\n",
       "      <th>13</th>\n",
       "      <td>13</td>\n",
       "      <td>0.921056</td>\n",
       "      <td>{'n_estimators': 500, 'max_depth': 15, 'max_fe...</td>\n",
       "    </tr>\n",
       "    <tr>\n",
       "      <th>15</th>\n",
       "      <td>15</td>\n",
       "      <td>0.920583</td>\n",
       "      <td>{'n_estimators': 300, 'max_depth': 15, 'max_fe...</td>\n",
       "    </tr>\n",
       "    <tr>\n",
       "      <th>19</th>\n",
       "      <td>19</td>\n",
       "      <td>0.920497</td>\n",
       "      <td>{'n_estimators': 300, 'max_depth': 15, 'max_fe...</td>\n",
       "    </tr>\n",
       "    <tr>\n",
       "      <th>14</th>\n",
       "      <td>14</td>\n",
       "      <td>0.920441</td>\n",
       "      <td>{'n_estimators': 500, 'max_depth': 15, 'max_fe...</td>\n",
       "    </tr>\n",
       "    <tr>\n",
       "      <th>2</th>\n",
       "      <td>2</td>\n",
       "      <td>0.920377</td>\n",
       "      <td>{'n_estimators': 500, 'max_depth': 17, 'max_fe...</td>\n",
       "    </tr>\n",
       "    <tr>\n",
       "      <th>18</th>\n",
       "      <td>18</td>\n",
       "      <td>0.920144</td>\n",
       "      <td>{'n_estimators': 300, 'max_depth': 15, 'max_fe...</td>\n",
       "    </tr>\n",
       "    <tr>\n",
       "      <th>11</th>\n",
       "      <td>11</td>\n",
       "      <td>0.920087</td>\n",
       "      <td>{'n_estimators': 500, 'max_depth': 13, 'max_fe...</td>\n",
       "    </tr>\n",
       "    <tr>\n",
       "      <th>12</th>\n",
       "      <td>12</td>\n",
       "      <td>0.919690</td>\n",
       "      <td>{'n_estimators': 500, 'max_depth': 13, 'max_fe...</td>\n",
       "    </tr>\n",
       "    <tr>\n",
       "      <th>10</th>\n",
       "      <td>10</td>\n",
       "      <td>0.919352</td>\n",
       "      <td>{'n_estimators': 500, 'max_depth': 13, 'max_fe...</td>\n",
       "    </tr>\n",
       "    <tr>\n",
       "      <th>9</th>\n",
       "      <td>9</td>\n",
       "      <td>0.918802</td>\n",
       "      <td>{'n_estimators': 100, 'max_depth': 19, 'max_fe...</td>\n",
       "    </tr>\n",
       "    <tr>\n",
       "      <th>5</th>\n",
       "      <td>5</td>\n",
       "      <td>0.917771</td>\n",
       "      <td>{'n_estimators': 100, 'max_depth': 19, 'max_fe...</td>\n",
       "    </tr>\n",
       "    <tr>\n",
       "      <th>16</th>\n",
       "      <td>16</td>\n",
       "      <td>0.917703</td>\n",
       "      <td>{'n_estimators': 300, 'max_depth': 11, 'max_fe...</td>\n",
       "    </tr>\n",
       "    <tr>\n",
       "      <th>17</th>\n",
       "      <td>17</td>\n",
       "      <td>0.917431</td>\n",
       "      <td>{'n_estimators': 300, 'max_depth': 11, 'max_fe...</td>\n",
       "    </tr>\n",
       "    <tr>\n",
       "      <th>3</th>\n",
       "      <td>3</td>\n",
       "      <td>0.916428</td>\n",
       "      <td>{'n_estimators': 100, 'max_depth': 19, 'max_fe...</td>\n",
       "    </tr>\n",
       "    <tr>\n",
       "      <th>7</th>\n",
       "      <td>7</td>\n",
       "      <td>0.905486</td>\n",
       "      <td>{'n_estimators': 100, 'max_depth': 7, 'max_fea...</td>\n",
       "    </tr>\n",
       "    <tr>\n",
       "      <th>4</th>\n",
       "      <td>4</td>\n",
       "      <td>0.905325</td>\n",
       "      <td>{'n_estimators': 1000, 'max_depth': 7, 'max_fe...</td>\n",
       "    </tr>\n",
       "    <tr>\n",
       "      <th>6</th>\n",
       "      <td>6</td>\n",
       "      <td>0.895565</td>\n",
       "      <td>{'n_estimators': 300, 'max_depth': 5, 'max_fea...</td>\n",
       "    </tr>\n",
       "    <tr>\n",
       "      <th>1</th>\n",
       "      <td>1</td>\n",
       "      <td>0.893271</td>\n",
       "      <td>{'n_estimators': 1000, 'max_depth': 5, 'max_fe...</td>\n",
       "    </tr>\n",
       "    <tr>\n",
       "      <th>8</th>\n",
       "      <td>8</td>\n",
       "      <td>0.892012</td>\n",
       "      <td>{'n_estimators': 1000, 'max_depth': 5, 'max_fe...</td>\n",
       "    </tr>\n",
       "    <tr>\n",
       "      <th>0</th>\n",
       "      <td>0</td>\n",
       "      <td>0.871615</td>\n",
       "      <td>{'n_estimators': 500, 'max_depth': 3, 'max_fea...</td>\n",
       "    </tr>\n",
       "  </tbody>\n",
       "</table>\n",
       "</div>"
      ],
      "text/plain": [
       "    trial       auc                                             params\n",
       "13     13  0.921056  {'n_estimators': 500, 'max_depth': 15, 'max_fe...\n",
       "15     15  0.920583  {'n_estimators': 300, 'max_depth': 15, 'max_fe...\n",
       "19     19  0.920497  {'n_estimators': 300, 'max_depth': 15, 'max_fe...\n",
       "14     14  0.920441  {'n_estimators': 500, 'max_depth': 15, 'max_fe...\n",
       "2       2  0.920377  {'n_estimators': 500, 'max_depth': 17, 'max_fe...\n",
       "18     18  0.920144  {'n_estimators': 300, 'max_depth': 15, 'max_fe...\n",
       "11     11  0.920087  {'n_estimators': 500, 'max_depth': 13, 'max_fe...\n",
       "12     12  0.919690  {'n_estimators': 500, 'max_depth': 13, 'max_fe...\n",
       "10     10  0.919352  {'n_estimators': 500, 'max_depth': 13, 'max_fe...\n",
       "9       9  0.918802  {'n_estimators': 100, 'max_depth': 19, 'max_fe...\n",
       "5       5  0.917771  {'n_estimators': 100, 'max_depth': 19, 'max_fe...\n",
       "16     16  0.917703  {'n_estimators': 300, 'max_depth': 11, 'max_fe...\n",
       "17     17  0.917431  {'n_estimators': 300, 'max_depth': 11, 'max_fe...\n",
       "3       3  0.916428  {'n_estimators': 100, 'max_depth': 19, 'max_fe...\n",
       "7       7  0.905486  {'n_estimators': 100, 'max_depth': 7, 'max_fea...\n",
       "4       4  0.905325  {'n_estimators': 1000, 'max_depth': 7, 'max_fe...\n",
       "6       6  0.895565  {'n_estimators': 300, 'max_depth': 5, 'max_fea...\n",
       "1       1  0.893271  {'n_estimators': 1000, 'max_depth': 5, 'max_fe...\n",
       "8       8  0.892012  {'n_estimators': 1000, 'max_depth': 5, 'max_fe...\n",
       "0       0  0.871615  {'n_estimators': 500, 'max_depth': 3, 'max_fea..."
      ]
     },
     "execution_count": 354,
     "metadata": {},
     "output_type": "execute_result"
    }
   ],
   "source": [
    "rf_auc_history.sort_values(\"auc\", ascending = False)"
   ]
  },
  {
   "attachments": {},
   "cell_type": "markdown",
   "metadata": {},
   "source": [
    "## 3.4. Choose the best 15 models"
   ]
  },
  {
   "attachments": {},
   "cell_type": "markdown",
   "metadata": {},
   "source": [
    "- Among all trained models, let's choose the best 15 models based on the AUC value."
   ]
  },
  {
   "cell_type": "code",
   "execution_count": 355,
   "metadata": {},
   "outputs": [],
   "source": [
    "lgbm_auc_history[\"model\"] = \"lgbm\"\n",
    "xgboost_auc_history[\"model\"] = \"xgboost\"\n",
    "rf_auc_history[\"model\"] = \"rf\"\n",
    "\n",
    "all_auc_history = pd.concat([lgbm_auc_history, xgboost_auc_history, rf_auc_history])"
   ]
  },
  {
   "cell_type": "code",
   "execution_count": 362,
   "metadata": {},
   "outputs": [
    {
     "data": {
      "text/html": [
       "<div>\n",
       "<style scoped>\n",
       "    .dataframe tbody tr th:only-of-type {\n",
       "        vertical-align: middle;\n",
       "    }\n",
       "\n",
       "    .dataframe tbody tr th {\n",
       "        vertical-align: top;\n",
       "    }\n",
       "\n",
       "    .dataframe thead th {\n",
       "        text-align: right;\n",
       "    }\n",
       "</style>\n",
       "<table border=\"1\" class=\"dataframe\">\n",
       "  <thead>\n",
       "    <tr style=\"text-align: right;\">\n",
       "      <th></th>\n",
       "      <th>trial</th>\n",
       "      <th>auc</th>\n",
       "      <th>params</th>\n",
       "      <th>model</th>\n",
       "    </tr>\n",
       "  </thead>\n",
       "  <tbody>\n",
       "    <tr>\n",
       "      <th>85</th>\n",
       "      <td>85</td>\n",
       "      <td>0.943124</td>\n",
       "      <td>{'n_estimators': 10000, 'learning_rate': 0.145...</td>\n",
       "      <td>lgbm</td>\n",
       "    </tr>\n",
       "    <tr>\n",
       "      <th>55</th>\n",
       "      <td>55</td>\n",
       "      <td>0.940711</td>\n",
       "      <td>{'n_estimators': 10000, 'learning_rate': 0.120...</td>\n",
       "      <td>lgbm</td>\n",
       "    </tr>\n",
       "    <tr>\n",
       "      <th>67</th>\n",
       "      <td>67</td>\n",
       "      <td>0.940047</td>\n",
       "      <td>{'n_estimators': 10000, 'learning_rate': 0.132...</td>\n",
       "      <td>lgbm</td>\n",
       "    </tr>\n",
       "    <tr>\n",
       "      <th>80</th>\n",
       "      <td>80</td>\n",
       "      <td>0.939630</td>\n",
       "      <td>{'n_estimators': 10000, 'learning_rate': 0.172...</td>\n",
       "      <td>lgbm</td>\n",
       "    </tr>\n",
       "    <tr>\n",
       "      <th>39</th>\n",
       "      <td>39</td>\n",
       "      <td>0.939020</td>\n",
       "      <td>{'n_estimators': 10000, 'learning_rate': 0.136...</td>\n",
       "      <td>lgbm</td>\n",
       "    </tr>\n",
       "    <tr>\n",
       "      <th>60</th>\n",
       "      <td>60</td>\n",
       "      <td>0.938714</td>\n",
       "      <td>{'n_estimators': 10000, 'learning_rate': 0.127...</td>\n",
       "      <td>lgbm</td>\n",
       "    </tr>\n",
       "    <tr>\n",
       "      <th>87</th>\n",
       "      <td>87</td>\n",
       "      <td>0.930233</td>\n",
       "      <td>{'n_estimators': 10000, 'learning_rate': 0.110...</td>\n",
       "      <td>lgbm</td>\n",
       "    </tr>\n",
       "    <tr>\n",
       "      <th>31</th>\n",
       "      <td>31</td>\n",
       "      <td>0.929903</td>\n",
       "      <td>{'n_estimators': 10000, 'learning_rate': 0.120...</td>\n",
       "      <td>lgbm</td>\n",
       "    </tr>\n",
       "    <tr>\n",
       "      <th>30</th>\n",
       "      <td>30</td>\n",
       "      <td>0.928990</td>\n",
       "      <td>{'n_estimators': 10000, 'learning_rate': 0.129...</td>\n",
       "      <td>lgbm</td>\n",
       "    </tr>\n",
       "    <tr>\n",
       "      <th>61</th>\n",
       "      <td>61</td>\n",
       "      <td>0.928796</td>\n",
       "      <td>{'n_estimators': 10000, 'learning_rate': 0.114...</td>\n",
       "      <td>lgbm</td>\n",
       "    </tr>\n",
       "    <tr>\n",
       "      <th>95</th>\n",
       "      <td>95</td>\n",
       "      <td>0.928361</td>\n",
       "      <td>{'n_estimators': 10000, 'learning_rate': 0.127...</td>\n",
       "      <td>lgbm</td>\n",
       "    </tr>\n",
       "    <tr>\n",
       "      <th>38</th>\n",
       "      <td>38</td>\n",
       "      <td>0.927850</td>\n",
       "      <td>{'n_estimators': 10000, 'learning_rate': 0.124...</td>\n",
       "      <td>lgbm</td>\n",
       "    </tr>\n",
       "    <tr>\n",
       "      <th>28</th>\n",
       "      <td>28</td>\n",
       "      <td>0.927820</td>\n",
       "      <td>{'n_estimators': 10000, 'learning_rate': 0.139...</td>\n",
       "      <td>lgbm</td>\n",
       "    </tr>\n",
       "    <tr>\n",
       "      <th>96</th>\n",
       "      <td>96</td>\n",
       "      <td>0.927811</td>\n",
       "      <td>{'n_estimators': 10000, 'learning_rate': 0.127...</td>\n",
       "      <td>lgbm</td>\n",
       "    </tr>\n",
       "    <tr>\n",
       "      <th>33</th>\n",
       "      <td>33</td>\n",
       "      <td>0.927721</td>\n",
       "      <td>{'n_estimators': 10000, 'learning_rate': 0.107...</td>\n",
       "      <td>lgbm</td>\n",
       "    </tr>\n",
       "  </tbody>\n",
       "</table>\n",
       "</div>"
      ],
      "text/plain": [
       "    trial       auc                                             params model\n",
       "85     85  0.943124  {'n_estimators': 10000, 'learning_rate': 0.145...  lgbm\n",
       "55     55  0.940711  {'n_estimators': 10000, 'learning_rate': 0.120...  lgbm\n",
       "67     67  0.940047  {'n_estimators': 10000, 'learning_rate': 0.132...  lgbm\n",
       "80     80  0.939630  {'n_estimators': 10000, 'learning_rate': 0.172...  lgbm\n",
       "39     39  0.939020  {'n_estimators': 10000, 'learning_rate': 0.136...  lgbm\n",
       "60     60  0.938714  {'n_estimators': 10000, 'learning_rate': 0.127...  lgbm\n",
       "87     87  0.930233  {'n_estimators': 10000, 'learning_rate': 0.110...  lgbm\n",
       "31     31  0.929903  {'n_estimators': 10000, 'learning_rate': 0.120...  lgbm\n",
       "30     30  0.928990  {'n_estimators': 10000, 'learning_rate': 0.129...  lgbm\n",
       "61     61  0.928796  {'n_estimators': 10000, 'learning_rate': 0.114...  lgbm\n",
       "95     95  0.928361  {'n_estimators': 10000, 'learning_rate': 0.127...  lgbm\n",
       "38     38  0.927850  {'n_estimators': 10000, 'learning_rate': 0.124...  lgbm\n",
       "28     28  0.927820  {'n_estimators': 10000, 'learning_rate': 0.139...  lgbm\n",
       "96     96  0.927811  {'n_estimators': 10000, 'learning_rate': 0.127...  lgbm\n",
       "33     33  0.927721  {'n_estimators': 10000, 'learning_rate': 0.107...  lgbm"
      ]
     },
     "execution_count": 362,
     "metadata": {},
     "output_type": "execute_result"
    }
   ],
   "source": [
    "best_15_models = all_auc_history.sort_values(\"auc\", ascending = False).head(15)\n",
    "best_15_models"
   ]
  },
  {
   "attachments": {},
   "cell_type": "markdown",
   "metadata": {},
   "source": [
    "# 4. Select cut-off score"
   ]
  },
  {
   "attachments": {},
   "cell_type": "markdown",
   "metadata": {},
   "source": [
    "- Let's find the best cut-off score for classifying binary outcome class.\n",
    "- Split the train set into train and validation set and train the model by using the train set with the parameters found in the hyperparamter tuning step. Then, we can define a set of thresholds and then evaluate predicted probabilities under each in order to find and select the optimal threshold by using the validation set."
   ]
  },
  {
   "attachments": {},
   "cell_type": "markdown",
   "metadata": {},
   "source": [
    "- First, split the train set into the train and validation set.\n",
    "- Since our data is imbalanced, use the stratified sampling with the ratio = 0.2."
   ]
  },
  {
   "cell_type": "code",
   "execution_count": 367,
   "metadata": {},
   "outputs": [],
   "source": [
    "X_y_train = pd.concat([X_train_std, pd.DataFrame({\"Outcome\": y_train})], axis = 1)"
   ]
  },
  {
   "cell_type": "code",
   "execution_count": 369,
   "metadata": {},
   "outputs": [
    {
     "data": {
      "text/plain": [
       "0    10463\n",
       "1     1652\n",
       "Name: Outcome, dtype: int64"
      ]
     },
     "execution_count": 369,
     "metadata": {},
     "output_type": "execute_result"
    }
   ],
   "source": [
    "X_y_train_train = X_y_train.groupby(\"Outcome\", group_keys = False).apply(lambda x: x.sample(frac = 0.8))\n",
    "X_y_train_train.Outcome.value_counts()"
   ]
  },
  {
   "cell_type": "code",
   "execution_count": 370,
   "metadata": {},
   "outputs": [
    {
     "data": {
      "text/plain": [
       "0    2616\n",
       "1     413\n",
       "Name: Outcome, dtype: int64"
      ]
     },
     "execution_count": 370,
     "metadata": {},
     "output_type": "execute_result"
    }
   ],
   "source": [
    "X_y_train_valid = X_y_train[~X_y_train.index.isin(X_y_train_train.index)]\n",
    "X_y_train_valid.Outcome.value_counts()"
   ]
  },
  {
   "cell_type": "code",
   "execution_count": null,
   "metadata": {},
   "outputs": [],
   "source": [
    "X_train_train = X_y_train_train.drop(\"Outcome\", axis = 1)\n",
    "y_train_train = X_y_train_train.Outcome\n",
    "\n",
    "X_train_valid = X_y_train_valid.drop(\"Outcome\", axis = 1)\n",
    "y_train_valid = X_y_train_valid.Outcome"
   ]
  },
  {
   "attachments": {},
   "cell_type": "markdown",
   "metadata": {},
   "source": [
    "- We splited the train set into train and validation set\n",
    "    - train set: 12,115\n",
    "        - Outcome = 0: 10,463\n",
    "        - Outcome = 1: 1,652\n",
    "    - validation set: 3,029\n",
    "        - Outcome = 0: 2,619\n",
    "        - Outcome = 1: 413\n",
    "        "
   ]
  },
  {
   "attachments": {},
   "cell_type": "markdown",
   "metadata": {},
   "source": [
    "- Now calculate the scores from the best 15 models and get the average scores, which will be used to calcualte the AUC and BER."
   ]
  },
  {
   "cell_type": "code",
   "execution_count": null,
   "metadata": {},
   "outputs": [],
   "source": [
    "best_15_models_proba = []\n",
    "\n",
    "for i in range(best_15_models.shape[0]):\n",
    "    params = best_15_models.iloc[i].params \n",
    "    model_name = best_15_models.iloc[i].model \n",
    "    \n",
    "    if model_name == \"lgbm\": model = lgb.LGBMClassifier(**params)\n",
    "    elif model_name == \"xgboost\": model = xgb.XGBClassifier(**params)\n",
    "    elif model_name == \"rf\": model = RandomForestClassifier(**params)\n",
    "    \n",
    "    model.fit(X_train_train, y_train_train)\n",
    "    y_pred_proba = model.predict_proba(X_train_valid)\n",
    "    best_15_models_proba.append(y_pred_proba)\n",
    "    "
   ]
  },
  {
   "cell_type": "code",
   "execution_count": 398,
   "metadata": {},
   "outputs": [],
   "source": [
    "best_15_avg_prob = best_15_models_proba[0]\n",
    "\n",
    "for i in range(1, 15):\n",
    "    best_15_avg_prob = best_15_avg_prob + best_15_models_proba[i]\n",
    "\n",
    "best_15_avg_prob = best_15_avg_prob/15"
   ]
  },
  {
   "cell_type": "code",
   "execution_count": 399,
   "metadata": {},
   "outputs": [
    {
     "data": {
      "text/plain": [
       "array([[0.98045849, 0.01954151],\n",
       "       [0.97563099, 0.02436901],\n",
       "       [0.95791448, 0.04208552],\n",
       "       ...,\n",
       "       [0.04403311, 0.95596689],\n",
       "       [0.769854  , 0.230146  ],\n",
       "       [0.98536498, 0.01463502]])"
      ]
     },
     "execution_count": 399,
     "metadata": {},
     "output_type": "execute_result"
    }
   ],
   "source": [
    "best_15_avg_prob"
   ]
  },
  {
   "cell_type": "code",
   "execution_count": 417,
   "metadata": {},
   "outputs": [],
   "source": [
    "thresholds = np.arange(0.0, 1.0, 0.0001)\n",
    "ber_list = np.zeros(shape = (len(thresholds)))\n"
   ]
  },
  {
   "cell_type": "code",
   "execution_count": 418,
   "metadata": {},
   "outputs": [],
   "source": [
    "for index, elem in enumerate(thresholds):\n",
    "    # Corrected probabilities\n",
    "    y_pred = (best_15_avg_prob[:, 1] > elem).astype(\"int\")\n",
    "    \n",
    "    # Calculate the BER\n",
    "    ber_list[index] = 1 - balanced_accuracy_score(y_train_valid, y_pred)"
   ]
  },
  {
   "cell_type": "code",
   "execution_count": 421,
   "metadata": {},
   "outputs": [
    {
     "name": "stdout",
     "output_type": "stream",
     "text": [
      "Best Threshold: 0.1867 with BER: 0.126\n"
     ]
    }
   ],
   "source": [
    "# Find the optimal threshold\n",
    "index = np.argmin(ber_list)\n",
    "threshold_Opt = round(thresholds[index], ndigits = 4)\n",
    "ber_Opt = round(ber_list[index], ndigits = 4)\n",
    "print('Best Threshold: {} with BER: {}'.format(threshold_Opt, ber_Opt))"
   ]
  },
  {
   "cell_type": "code",
   "execution_count": 445,
   "metadata": {},
   "outputs": [
    {
     "data": {
      "text/plain": [
       "Text(0.1067, 0.176, 'Optimal threshold \\n for Outcome = 1: 0.1867')"
      ]
     },
     "execution_count": 445,
     "metadata": {},
     "output_type": "execute_result"
    },
    {
     "data": {
      "image/png": "[encoded data removed]",
      "text/plain": [
       "<Figure size 640x480 with 1 Axes>"
      ]
     },
     "metadata": {
      "image/png": {
       "height": 480,
       "width": 640
      }
     },
     "output_type": "display_data"
    }
   ],
   "source": [
    "plt.grid()\n",
    "sns.lineplot(x = thresholds, y = ber_list)\n",
    "plt.xlabel(\"Threshold\", fontsize = 12)\n",
    "plt.ylabel(\"Balanced Error Rate\", fontsize = 12)\n",
    "plt.title(\"Threshold Tuning Curve\", fontsize = 15)\n",
    "\n",
    "plt.plot(threshold_Opt, ber_Opt, \"ro\")\n",
    "plt.text(x = threshold_Opt - 0.08, y = ber_Opt + 0.05, s = f'Optimal threshold \\n for Outcome = 1: {threshold_Opt}')"
   ]
  },
  {
   "attachments": {},
   "cell_type": "markdown",
   "metadata": {},
   "source": [
    "- When we set 0.1867 as the cut-off score for the Outcome = 1, then we can achieve the best BER 0.126 on the validation set."
   ]
  },
  {
   "attachments": {},
   "cell_type": "markdown",
   "metadata": {},
   "source": [
    "# 5. Calculate the BER and AUC"
   ]
  },
  {
   "attachments": {},
   "cell_type": "markdown",
   "metadata": {},
   "source": [
    "- Now let's calculate the BER and AUC on the test data."
   ]
  },
  {
   "cell_type": "code",
   "execution_count": null,
   "metadata": {},
   "outputs": [],
   "source": [
    "best_15_models_proba_test = []\n",
    "\n",
    "for i in range(best_15_models.shape[0]):\n",
    "    params = best_15_models.iloc[i].params \n",
    "    model_name = best_15_models.iloc[i].model \n",
    "    \n",
    "    if model_name == \"lgbm\": model = lgb.LGBMClassifier(**params)\n",
    "    elif model_name == \"xgboost\": model = xgb.XGBClassifier(**params)\n",
    "    elif model_name == \"rf\": model = RandomForestClassifier(**params)\n",
    "    \n",
    "    model.fit(X_train_std, y_train)\n",
    "    y_pred_proba = model.predict_proba(X_test_std)\n",
    "    best_15_models_proba_test.append(y_pred_proba)\n",
    "    "
   ]
  },
  {
   "cell_type": "code",
   "execution_count": 462,
   "metadata": {},
   "outputs": [],
   "source": [
    "best_15_avg_prob_test = best_15_models_proba_test[0]\n",
    "\n",
    "for i in range(1, 15):\n",
    "    best_15_avg_prob_test = best_15_avg_prob_test + best_15_models_proba_test[i]\n",
    "\n",
    "best_15_avg_prob_test = best_15_avg_prob_test / 15"
   ]
  },
  {
   "cell_type": "code",
   "execution_count": 464,
   "metadata": {},
   "outputs": [
    {
     "data": {
      "text/plain": [
       "array([[0.98290209, 0.01709791],\n",
       "       [0.89942117, 0.10057883],\n",
       "       [0.97529847, 0.02470153],\n",
       "       ...,\n",
       "       [0.98090421, 0.01909579],\n",
       "       [0.98463654, 0.01536346],\n",
       "       [0.96578141, 0.03421859]])"
      ]
     },
     "execution_count": 464,
     "metadata": {},
     "output_type": "execute_result"
    }
   ],
   "source": [
    "best_15_avg_prob_test"
   ]
  },
  {
   "cell_type": "code",
   "execution_count": 465,
   "metadata": {},
   "outputs": [],
   "source": [
    "y_pred = (best_15_avg_prob_test[:, 1] > threshold_Opt).astype(\"int\")\n",
    "\n",
    "test_ber = 1 - balanced_accuracy_score(y_test, y_pred)\n",
    "test_auc = roc_auc_score(y_test, best_15_avg_prob_test[:, 1])"
   ]
  },
  {
   "cell_type": "code",
   "execution_count": 466,
   "metadata": {},
   "outputs": [
    {
     "name": "stdout",
     "output_type": "stream",
     "text": [
      "Best AUC before tuning the parameters:  0.9169488636328671\n",
      "AUC after tuning the parameters:  0.9158752536593299\n"
     ]
    }
   ],
   "source": [
    "print(\"Best AUC before tuning the parameters: \", result_accuracy.AUC.max())\n",
    "print(\"AUC after tuning the parameters: \", test_auc)"
   ]
  },
  {
   "cell_type": "code",
   "execution_count": 468,
   "metadata": {},
   "outputs": [
    {
     "name": "stdout",
     "output_type": "stream",
     "text": [
      "Best BER before tuning the parameters:  0.200440664177713\n",
      "BER after tuning the parameters:  0.16305466857266282\n"
     ]
    }
   ],
   "source": [
    "print(\"Best BER before tuning the parameters: \", result_accuracy.BER.min())\n",
    "print(\"BER after tuning the parameters: \", test_ber)"
   ]
  },
  {
   "attachments": {},
   "cell_type": "markdown",
   "metadata": {},
   "source": [
    "- AUC is almost the same after tuning, but BER significantly decreased after tuning."
   ]
  },
  {
   "cell_type": "code",
   "execution_count": 470,
   "metadata": {},
   "outputs": [
    {
     "data": {
      "image/png": "[encoded data removed]",
      "text/plain": [
       "<Figure size 640x480 with 2 Axes>"
      ]
     },
     "metadata": {
      "image/png": {
       "height": 480,
       "width": 640
      }
     },
     "output_type": "display_data"
    }
   ],
   "source": [
    "cm = confusion_matrix(y_test, y_pred)\n",
    "cm_display = ConfusionMatrixDisplay(confusion_matrix = cm, display_labels = clf.classes_)\n",
    "cm_display.plot();    "
   ]
  },
  {
   "cell_type": "code",
   "execution_count": 472,
   "metadata": {},
   "outputs": [
    {
     "name": "stdout",
     "output_type": "stream",
     "text": [
      "              precision    recall  f1-score   support\n",
      "\n",
      "           0       0.96      0.94      0.95      5623\n",
      "           1       0.64      0.74      0.69       867\n",
      "\n",
      "    accuracy                           0.91      6490\n",
      "   macro avg       0.80      0.84      0.82      6490\n",
      "weighted avg       0.92      0.91      0.91      6490\n",
      "\n"
     ]
    }
   ],
   "source": [
    "print(classification_report(y_test, y_pred))"
   ]
  }
 ],
 "metadata": {
  "kernelspec": {
   "display_name": "data_analysis_venv",
   "language": "python",
   "name": "python3"
  },
  "language_info": {
   "codemirror_mode": {
    "name": "ipython",
    "version": 3
   },
   "file_extension": ".py",
   "mimetype": "text/x-python",
   "name": "python",
   "nbconvert_exporter": "python",
   "pygments_lexer": "ipython3",
   "version": "3.10.9"
  },
  "orig_nbformat": 4,
  "vscode": {
   "interpreter": {
    "hash": "3e02e73bf84267195e0a5d7a47b491df6b046c523c3732dc59015fd9619ea8ca"
   }
  }
 },
 "nbformat": 4,
 "nbformat_minor": 2
}
